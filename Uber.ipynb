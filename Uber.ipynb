{
  "nbformat": 4,
  "nbformat_minor": 0,
  "metadata": {
    "colab": {
      "name": "Uber",
      "provenance": [],
      "collapsed_sections": [],
      "mount_file_id": "1W7UPmh8OHcmBB3o-0t0T7f1mgOzGDST_",
      "authorship_tag": "ABX9TyNnm3YXfCH0JI1bsPNu5PyV",
      "include_colab_link": true
    },
    "kernelspec": {
      "name": "python3",
      "display_name": "Python 3"
    }
  },
  "cells": [
    {
      "cell_type": "markdown",
      "metadata": {
        "id": "view-in-github",
        "colab_type": "text"
      },
      "source": [
        "<a href=\"https://colab.research.google.com/github/Pedro-Prestes/learning/blob/master/Uber.ipynb\" target=\"_parent\"><img src=\"https://colab.research.google.com/assets/colab-badge.svg\" alt=\"Open In Colab\"/></a>"
      ]
    },
    {
      "cell_type": "code",
      "metadata": {
        "id": "4dWDepHG46mG"
      },
      "source": [
        "# importando os pacotes necessários\n",
        "import pandas as pd\n",
        "import matplotlib.pyplot as plt\n",
        "import numpy as np\n",
        "import seaborn as sns\n",
        "sns.set()\n",
        "\n",
        "from sklearn.preprocessing import MinMaxScaler\n",
        "from sklearn.cluster import KMeans\n",
        "from mpl_toolkits.mplot3d import Axes3D\n",
        "\n",
        "\n",
        "# allowing all the columns to be visualized\n",
        "pd.options.display.max_columns = None\n",
        "\n",
        "# rendering all graphics straight out of the notebook\n",
        "%matplotlib inline\n",
        "\n",
        "import warnings\n",
        "warnings.simplefilter(action='ignore', category=FutureWarning)"
      ],
      "execution_count": null,
      "outputs": []
    },
    {
      "cell_type": "code",
      "metadata": {
        "id": "vkHJWp6U5Iug",
        "outputId": "b662623a-5330-4836-d41c-c6f4dbe3baef",
        "colab": {
          "base_uri": "https://localhost:8080/",
          "height": 258
        }
      },
      "source": [
        "# importando os dados\n",
        "df = pd.read_csv('/content/drive/My Drive/Aulas_EscolaDataScience/sao_paulo-od_zones_2017-2020-1-All-HourlyAggregate.csv')\n",
        "\n",
        "# verificando as dimensões\n",
        "print('Dimensões do Dataset',\n",
        "    '\\nVariáveis: ',df.shape[1], \"\\n\"\n",
        "      'Entradas: ', df.shape[0])\n",
        "\n",
        "# verificando as primeiras entradas\n",
        "df.head()\n",
        "\n"
      ],
      "execution_count": null,
      "outputs": [
        {
          "output_type": "stream",
          "text": [
            "Dimensões do Dataset \n",
            "Variáveis:  7 \n",
            "Entradas:  2969273\n"
          ],
          "name": "stdout"
        },
        {
          "output_type": "execute_result",
          "data": {
            "text/html": [
              "<div>\n",
              "<style scoped>\n",
              "    .dataframe tbody tr th:only-of-type {\n",
              "        vertical-align: middle;\n",
              "    }\n",
              "\n",
              "    .dataframe tbody tr th {\n",
              "        vertical-align: top;\n",
              "    }\n",
              "\n",
              "    .dataframe thead th {\n",
              "        text-align: right;\n",
              "    }\n",
              "</style>\n",
              "<table border=\"1\" class=\"dataframe\">\n",
              "  <thead>\n",
              "    <tr style=\"text-align: right;\">\n",
              "      <th></th>\n",
              "      <th>sourceid</th>\n",
              "      <th>dstid</th>\n",
              "      <th>hod</th>\n",
              "      <th>mean_travel_time</th>\n",
              "      <th>standard_deviation_travel_time</th>\n",
              "      <th>geometric_mean_travel_time</th>\n",
              "      <th>geometric_standard_deviation_travel_time</th>\n",
              "    </tr>\n",
              "  </thead>\n",
              "  <tbody>\n",
              "    <tr>\n",
              "      <th>0</th>\n",
              "      <td>303</td>\n",
              "      <td>169</td>\n",
              "      <td>5</td>\n",
              "      <td>2124.98</td>\n",
              "      <td>620.16</td>\n",
              "      <td>2072.14</td>\n",
              "      <td>1.22</td>\n",
              "    </tr>\n",
              "    <tr>\n",
              "      <th>1</th>\n",
              "      <td>302</td>\n",
              "      <td>179</td>\n",
              "      <td>5</td>\n",
              "      <td>2713.35</td>\n",
              "      <td>474.05</td>\n",
              "      <td>2676.71</td>\n",
              "      <td>1.17</td>\n",
              "    </tr>\n",
              "    <tr>\n",
              "      <th>2</th>\n",
              "      <td>213</td>\n",
              "      <td>17</td>\n",
              "      <td>13</td>\n",
              "      <td>2070.42</td>\n",
              "      <td>379.81</td>\n",
              "      <td>2032.33</td>\n",
              "      <td>1.22</td>\n",
              "    </tr>\n",
              "    <tr>\n",
              "      <th>3</th>\n",
              "      <td>212</td>\n",
              "      <td>27</td>\n",
              "      <td>13</td>\n",
              "      <td>2469.65</td>\n",
              "      <td>437.49</td>\n",
              "      <td>2430.96</td>\n",
              "      <td>1.20</td>\n",
              "    </tr>\n",
              "    <tr>\n",
              "      <th>4</th>\n",
              "      <td>211</td>\n",
              "      <td>37</td>\n",
              "      <td>13</td>\n",
              "      <td>2102.72</td>\n",
              "      <td>760.82</td>\n",
              "      <td>2006.15</td>\n",
              "      <td>1.33</td>\n",
              "    </tr>\n",
              "  </tbody>\n",
              "</table>\n",
              "</div>"
            ],
            "text/plain": [
              "   sourceid  dstid  hod  mean_travel_time  standard_deviation_travel_time  \\\n",
              "0       303    169    5           2124.98                          620.16   \n",
              "1       302    179    5           2713.35                          474.05   \n",
              "2       213     17   13           2070.42                          379.81   \n",
              "3       212     27   13           2469.65                          437.49   \n",
              "4       211     37   13           2102.72                          760.82   \n",
              "\n",
              "   geometric_mean_travel_time  geometric_standard_deviation_travel_time  \n",
              "0                     2072.14                                      1.22  \n",
              "1                     2676.71                                      1.17  \n",
              "2                     2032.33                                      1.22  \n",
              "3                     2430.96                                      1.20  \n",
              "4                     2006.15                                      1.33  "
            ]
          },
          "metadata": {
            "tags": []
          },
          "execution_count": 2
        }
      ]
    },
    {
      "cell_type": "code",
      "metadata": {
        "id": "s47bmOv6FaRD"
      },
      "source": [
        "# selecionando as features numéricas\n",
        "df_num = pd.DataFrame(df.iloc[:, [3,4,5,6]].values)\n",
        "\n",
        "# salvando os nomes das colunas\n",
        "cols = df.iloc[:, [3,4,5,6]].columns"
      ],
      "execution_count": null,
      "outputs": []
    },
    {
      "cell_type": "code",
      "metadata": {
        "id": "rZTuxClwGnfa",
        "outputId": "6a10a947-3340-4f41-c1ae-153507f4e1e3",
        "colab": {
          "base_uri": "https://localhost:8080/",
          "height": 206
        }
      },
      "source": [
        "# colocando os dados na mesma escala\n",
        "scaler = MinMaxScaler()\n",
        "scaled = pd.DataFrame(scaler.fit_transform(df_num))\n",
        "scaled.columns = cols\n",
        "\n",
        "scaled.head()"
      ],
      "execution_count": null,
      "outputs": [
        {
          "output_type": "execute_result",
          "data": {
            "text/html": [
              "<div>\n",
              "<style scoped>\n",
              "    .dataframe tbody tr th:only-of-type {\n",
              "        vertical-align: middle;\n",
              "    }\n",
              "\n",
              "    .dataframe tbody tr th {\n",
              "        vertical-align: top;\n",
              "    }\n",
              "\n",
              "    .dataframe thead th {\n",
              "        text-align: right;\n",
              "    }\n",
              "</style>\n",
              "<table border=\"1\" class=\"dataframe\">\n",
              "  <thead>\n",
              "    <tr style=\"text-align: right;\">\n",
              "      <th></th>\n",
              "      <th>mean_travel_time</th>\n",
              "      <th>standard_deviation_travel_time</th>\n",
              "      <th>geometric_mean_travel_time</th>\n",
              "      <th>geometric_standard_deviation_travel_time</th>\n",
              "    </tr>\n",
              "  </thead>\n",
              "  <tbody>\n",
              "    <tr>\n",
              "      <th>0</th>\n",
              "      <td>0.250696</td>\n",
              "      <td>0.143792</td>\n",
              "      <td>0.247795</td>\n",
              "      <td>0.012478</td>\n",
              "    </tr>\n",
              "    <tr>\n",
              "      <th>1</th>\n",
              "      <td>0.321286</td>\n",
              "      <td>0.109245</td>\n",
              "      <td>0.320250</td>\n",
              "      <td>0.009507</td>\n",
              "    </tr>\n",
              "    <tr>\n",
              "      <th>2</th>\n",
              "      <td>0.244150</td>\n",
              "      <td>0.086963</td>\n",
              "      <td>0.243024</td>\n",
              "      <td>0.012478</td>\n",
              "    </tr>\n",
              "    <tr>\n",
              "      <th>3</th>\n",
              "      <td>0.292048</td>\n",
              "      <td>0.100601</td>\n",
              "      <td>0.290798</td>\n",
              "      <td>0.011289</td>\n",
              "    </tr>\n",
              "    <tr>\n",
              "      <th>4</th>\n",
              "      <td>0.248025</td>\n",
              "      <td>0.177051</td>\n",
              "      <td>0.239887</td>\n",
              "      <td>0.019014</td>\n",
              "    </tr>\n",
              "  </tbody>\n",
              "</table>\n",
              "</div>"
            ],
            "text/plain": [
              "   mean_travel_time  standard_deviation_travel_time  \\\n",
              "0          0.250696                        0.143792   \n",
              "1          0.321286                        0.109245   \n",
              "2          0.244150                        0.086963   \n",
              "3          0.292048                        0.100601   \n",
              "4          0.248025                        0.177051   \n",
              "\n",
              "   geometric_mean_travel_time  geometric_standard_deviation_travel_time  \n",
              "0                    0.247795                                  0.012478  \n",
              "1                    0.320250                                  0.009507  \n",
              "2                    0.243024                                  0.012478  \n",
              "3                    0.290798                                  0.011289  \n",
              "4                    0.239887                                  0.019014  "
            ]
          },
          "metadata": {
            "tags": []
          },
          "execution_count": 4
        }
      ]
    },
    {
      "cell_type": "code",
      "metadata": {
        "id": "4XrwY9kwIgM-",
        "outputId": "37ae4a8d-417a-4e6f-9abc-8124e8119146",
        "colab": {
          "base_uri": "https://localhost:8080/",
          "height": 627
        }
      },
      "source": [
        "# dados originais\n",
        "wcss = []\n",
        "for i in range(1,15):\n",
        "  # instanciando o modelo\n",
        "  kmeans = KMeans(n_clusters = i, init = 'k-means++', max_iter = 300, n_init = 10, random_state = 0)\n",
        "  # dando fit nos dados\n",
        "  kmeans.fit(df_num)\n",
        "  # salvando os resultados na lista\n",
        "  wcss.append(kmeans.inertia_)\n",
        "\n",
        "# plotando o Elbow Method  \n",
        "plt.figure(figsize=(15,10))\n",
        "plt.plot(range(1,15), wcss, 'o')\n",
        "plt.plot(range(1 , 15) , wcss , '-' , alpha = 0.5)\n",
        "plt.title('Elbow Method')\n",
        "plt.xlabel('Number of Clusters')\n",
        "plt.ylabel('WCSS')\n",
        "plt.savefig('Elbow_Method.png')\n",
        "plt.show()"
      ],
      "execution_count": null,
      "outputs": [
        {
          "output_type": "display_data",
          "data": {
            "image/png": "[encoded data removed]",
            "text/plain": [
              "<Figure size 1080x720 with 1 Axes>"
            ]
          },
          "metadata": {
            "tags": [],
            "needs_background": "light"
          }
        }
      ]
    },
    {
      "cell_type": "code",
      "metadata": {
        "id": "kXbt4uqbJgy0",
        "outputId": "97e38730-5e6a-4f50-931f-61312bba075b",
        "colab": {
          "base_uri": "https://localhost:8080/",
          "height": 627
        }
      },
      "source": [
        "# Dados Padronizados\n",
        "wcss = []\n",
        "for i in range(1,15):\n",
        "  # instanciando o modelo\n",
        "  kmeans = KMeans(n_clusters = i, init = 'k-means++', max_iter = 300, n_init = 10, random_state = 0)\n",
        "  # dando fit nos dados\n",
        "  kmeans.fit(scaled)\n",
        "  # salvando os resultados na lista\n",
        "  wcss.append(kmeans.inertia_)\n",
        "  \n",
        "# plotando o Elbow Method  \n",
        "plt.figure(figsize=(15,10))\n",
        "plt.plot(range(1,15), wcss, 'o')\n",
        "plt.plot(range(1 , 15) , wcss , '-' , alpha = 0.5)\n",
        "plt.title('Elbow Method')\n",
        "plt.xlabel('Number of Clusters')\n",
        "plt.ylabel('WCSS')\n",
        "plt.savefig('Elbow_Method.png')\n",
        "plt.show()"
      ],
      "execution_count": null,
      "outputs": [
        {
          "output_type": "display_data",
          "data": {
            "image/png": "[encoded data removed]",
            "text/plain": [
              "<Figure size 1080x720 with 1 Axes>"
            ]
          },
          "metadata": {
            "tags": [],
            "needs_background": "light"
          }
        }
      ]
    },
    {
      "cell_type": "code",
      "metadata": {
        "id": "60EcwGThYgKT",
        "outputId": "a3cf8184-82ac-43ef-acd0-8573493ef8ec",
        "colab": {
          "base_uri": "https://localhost:8080/"
        }
      },
      "source": [
        "# verificar os resultados\n",
        "print('Lista Com Erros: ', wcss)"
      ],
      "execution_count": null,
      "outputs": [
        {
          "output_type": "stream",
          "text": [
            "Lista Com Erros:  [91022.74120148447, 39741.374300313226, 25522.69275115319, 19520.87263180121, 16448.886418479, 13727.960939690125, 12044.603339475409, 10618.559998071247, 9599.802501463311, 8713.051001617501, 8066.179001375682, 7469.633630187508, 6922.78537977182, 6468.028781107506]\n"
          ],
          "name": "stdout"
        }
      ]
    },
    {
      "cell_type": "code",
      "metadata": {
        "id": "Qwuclh4IYjB6",
        "outputId": "59ae8c4f-5352-44e4-ef8d-260e31b2b4af",
        "colab": {
          "base_uri": "https://localhost:8080/"
        }
      },
      "source": [
        "# diferença entre os elementos\n",
        "dif = np.diff(wcss)\n",
        "print('Diferença Entre os Elementos: ', dif)"
      ],
      "execution_count": null,
      "outputs": [
        {
          "output_type": "stream",
          "text": [
            "Diferença Entre os Elementos:  [-51281.36690117 -14218.68154916  -6001.82011935  -3071.98621332\n",
            "  -2720.92547879  -1683.35760021  -1426.0433414   -1018.75749661\n",
            "   -886.75149985   -646.87200024   -596.54537119   -546.84825042\n",
            "   -454.75659866]\n"
          ],
          "name": "stdout"
        }
      ]
    },
    {
      "cell_type": "code",
      "metadata": {
        "id": "5h391nXFYtqm"
      },
      "source": [
        "# instanciando o modelo\n",
        "kmeans = KMeans(n_clusters = 6, init = 'k-means++', max_iter = 300, n_init = 10, random_state = 0)\n",
        "y_kmeans = kmeans.fit_predict(scaled)"
      ],
      "execution_count": null,
      "outputs": []
    },
    {
      "cell_type": "code",
      "metadata": {
        "id": "R46EL21bcswO",
        "outputId": "6d3d8e89-d297-4bfb-833c-71cdfd16e3a2",
        "colab": {
          "base_uri": "https://localhost:8080/",
          "height": 652
        }
      },
      "source": [
        "# visualizando os clusters\n",
        "fig, ax = plt.subplots(figsize=(13,11))\n",
        "scaled = scaler.fit_transform(df_num)\n",
        "# definindo a figura em 3 dimensões\n",
        "ax = fig.add_subplot(111, projection='3d')\n",
        "# plotando os clusters\n",
        "plt.scatter(scaled[y_kmeans == 0,0],scaled[y_kmeans == 0,1], s= 50, c= 'red',label= 'Cluster 1')\n",
        "plt.scatter(scaled[y_kmeans == 1,0], scaled[y_kmeans == 1,1], s= 50, c= 'blue', label= 'Cluster 2')\n",
        "plt.scatter(scaled[y_kmeans == 2,0], scaled[y_kmeans == 2,1], s= 50, c= 'green', label= 'Cluster 3')\n",
        "plt.scatter(scaled[y_kmeans == 3,0], scaled[y_kmeans == 3,1], s= 50, c= 'cyan', label= 'Cluster 4')\n",
        "plt.scatter(scaled[y_kmeans == 4,0], scaled[y_kmeans == 4,1], s= 50, c= 'magenta', label= 'Cluster 5')\n",
        "plt.scatter(scaled[y_kmeans == 5,0], scaled[y_kmeans == 5,1], s= 50, c= 'gray', label= 'Cluster 6')\n",
        "\n",
        "\n",
        "# centroids\n",
        "plt.scatter(kmeans.cluster_centers_[:, 0], kmeans.cluster_centers_[:,1], s= 300, c= 'yellow', label= 'Centroids')\n",
        "plt.title('Clusters')\n",
        "plt.legend()\n",
        "plt.savefig('clusters.png')\n",
        "plt.show()"
      ],
      "execution_count": null,
      "outputs": [
        {
          "output_type": "display_data",
          "data": {
            "image/png": "[encoded data removed]",
            "text/plain": [
              "<Figure size 936x792 with 2 Axes>"
            ]
          },
          "metadata": {
            "tags": [],
            "needs_background": "light"
          }
        }
      ]
    },
    {
      "cell_type": "code",
      "metadata": {
        "id": "7L0oN39agflE",
        "outputId": "b7016130-ded5-491b-d783-a3bfdc864174",
        "colab": {
          "base_uri": "https://localhost:8080/"
        }
      },
      "source": [
        "# visualizando as previsões\n",
        "y_kmeans"
      ],
      "execution_count": null,
      "outputs": [
        {
          "output_type": "execute_result",
          "data": {
            "text/plain": [
              "array([1, 5, 1, ..., 5, 4, 2], dtype=int32)"
            ]
          },
          "metadata": {
            "tags": []
          },
          "execution_count": 11
        }
      ]
    },
    {
      "cell_type": "code",
      "metadata": {
        "id": "a85kU-42ggYR",
        "outputId": "32d194c0-f65b-4f4b-8a2b-09a0b1d52fe0",
        "colab": {
          "base_uri": "https://localhost:8080/",
          "height": 224
        }
      },
      "source": [
        "# convertendo as previsões para um dataframe\n",
        "kmeans = pd.DataFrame(data=y_kmeans, dtype=int)\n",
        "kmeans.columns = ['cluster']\n",
        "\n",
        "# previsões como um df\n",
        "print(kmeans.shape)\n",
        "kmeans.head()\n",
        "\n"
      ],
      "execution_count": null,
      "outputs": [
        {
          "output_type": "stream",
          "text": [
            "(2969273, 1)\n"
          ],
          "name": "stdout"
        },
        {
          "output_type": "execute_result",
          "data": {
            "text/html": [
              "<div>\n",
              "<style scoped>\n",
              "    .dataframe tbody tr th:only-of-type {\n",
              "        vertical-align: middle;\n",
              "    }\n",
              "\n",
              "    .dataframe tbody tr th {\n",
              "        vertical-align: top;\n",
              "    }\n",
              "\n",
              "    .dataframe thead th {\n",
              "        text-align: right;\n",
              "    }\n",
              "</style>\n",
              "<table border=\"1\" class=\"dataframe\">\n",
              "  <thead>\n",
              "    <tr style=\"text-align: right;\">\n",
              "      <th></th>\n",
              "      <th>cluster</th>\n",
              "    </tr>\n",
              "  </thead>\n",
              "  <tbody>\n",
              "    <tr>\n",
              "      <th>0</th>\n",
              "      <td>1</td>\n",
              "    </tr>\n",
              "    <tr>\n",
              "      <th>1</th>\n",
              "      <td>5</td>\n",
              "    </tr>\n",
              "    <tr>\n",
              "      <th>2</th>\n",
              "      <td>1</td>\n",
              "    </tr>\n",
              "    <tr>\n",
              "      <th>3</th>\n",
              "      <td>1</td>\n",
              "    </tr>\n",
              "    <tr>\n",
              "      <th>4</th>\n",
              "      <td>1</td>\n",
              "    </tr>\n",
              "  </tbody>\n",
              "</table>\n",
              "</div>"
            ],
            "text/plain": [
              "   cluster\n",
              "0        1\n",
              "1        5\n",
              "2        1\n",
              "3        1\n",
              "4        1"
            ]
          },
          "metadata": {
            "tags": []
          },
          "execution_count": 17
        }
      ]
    },
    {
      "cell_type": "code",
      "metadata": {
        "id": "cyjEzCq3hCF0",
        "outputId": "986c1dfd-a6ed-4907-cb82-0b4c3c6d0933",
        "colab": {
          "base_uri": "https://localhost:8080/",
          "height": 224
        }
      },
      "source": [
        "# concatenando os clusters \n",
        "df = pd.concat([df, kmeans], axis=1)\n",
        "\n",
        "# conferindo os dataframes\n",
        "print(df.shape)\n",
        "df.head()"
      ],
      "execution_count": null,
      "outputs": [
        {
          "output_type": "stream",
          "text": [
            "(2969273, 8)\n"
          ],
          "name": "stdout"
        },
        {
          "output_type": "execute_result",
          "data": {
            "text/html": [
              "<div>\n",
              "<style scoped>\n",
              "    .dataframe tbody tr th:only-of-type {\n",
              "        vertical-align: middle;\n",
              "    }\n",
              "\n",
              "    .dataframe tbody tr th {\n",
              "        vertical-align: top;\n",
              "    }\n",
              "\n",
              "    .dataframe thead th {\n",
              "        text-align: right;\n",
              "    }\n",
              "</style>\n",
              "<table border=\"1\" class=\"dataframe\">\n",
              "  <thead>\n",
              "    <tr style=\"text-align: right;\">\n",
              "      <th></th>\n",
              "      <th>sourceid</th>\n",
              "      <th>dstid</th>\n",
              "      <th>hod</th>\n",
              "      <th>mean_travel_time</th>\n",
              "      <th>standard_deviation_travel_time</th>\n",
              "      <th>geometric_mean_travel_time</th>\n",
              "      <th>geometric_standard_deviation_travel_time</th>\n",
              "      <th>cluster</th>\n",
              "    </tr>\n",
              "  </thead>\n",
              "  <tbody>\n",
              "    <tr>\n",
              "      <th>0</th>\n",
              "      <td>303</td>\n",
              "      <td>169</td>\n",
              "      <td>5</td>\n",
              "      <td>2124.98</td>\n",
              "      <td>620.16</td>\n",
              "      <td>2072.14</td>\n",
              "      <td>1.22</td>\n",
              "      <td>1</td>\n",
              "    </tr>\n",
              "    <tr>\n",
              "      <th>1</th>\n",
              "      <td>302</td>\n",
              "      <td>179</td>\n",
              "      <td>5</td>\n",
              "      <td>2713.35</td>\n",
              "      <td>474.05</td>\n",
              "      <td>2676.71</td>\n",
              "      <td>1.17</td>\n",
              "      <td>5</td>\n",
              "    </tr>\n",
              "    <tr>\n",
              "      <th>2</th>\n",
              "      <td>213</td>\n",
              "      <td>17</td>\n",
              "      <td>13</td>\n",
              "      <td>2070.42</td>\n",
              "      <td>379.81</td>\n",
              "      <td>2032.33</td>\n",
              "      <td>1.22</td>\n",
              "      <td>1</td>\n",
              "    </tr>\n",
              "    <tr>\n",
              "      <th>3</th>\n",
              "      <td>212</td>\n",
              "      <td>27</td>\n",
              "      <td>13</td>\n",
              "      <td>2469.65</td>\n",
              "      <td>437.49</td>\n",
              "      <td>2430.96</td>\n",
              "      <td>1.20</td>\n",
              "      <td>1</td>\n",
              "    </tr>\n",
              "    <tr>\n",
              "      <th>4</th>\n",
              "      <td>211</td>\n",
              "      <td>37</td>\n",
              "      <td>13</td>\n",
              "      <td>2102.72</td>\n",
              "      <td>760.82</td>\n",
              "      <td>2006.15</td>\n",
              "      <td>1.33</td>\n",
              "      <td>1</td>\n",
              "    </tr>\n",
              "  </tbody>\n",
              "</table>\n",
              "</div>"
            ],
            "text/plain": [
              "   sourceid  dstid  hod  mean_travel_time  standard_deviation_travel_time  \\\n",
              "0       303    169    5           2124.98                          620.16   \n",
              "1       302    179    5           2713.35                          474.05   \n",
              "2       213     17   13           2070.42                          379.81   \n",
              "3       212     27   13           2469.65                          437.49   \n",
              "4       211     37   13           2102.72                          760.82   \n",
              "\n",
              "   geometric_mean_travel_time  geometric_standard_deviation_travel_time  \\\n",
              "0                     2072.14                                      1.22   \n",
              "1                     2676.71                                      1.17   \n",
              "2                     2032.33                                      1.22   \n",
              "3                     2430.96                                      1.20   \n",
              "4                     2006.15                                      1.33   \n",
              "\n",
              "   cluster  \n",
              "0        1  \n",
              "1        5  \n",
              "2        1  \n",
              "3        1  \n",
              "4        1  "
            ]
          },
          "metadata": {
            "tags": []
          },
          "execution_count": 13
        }
      ]
    },
    {
      "cell_type": "code",
      "metadata": {
        "id": "nV6F32nShvbA",
        "outputId": "7759531e-3342-41bc-83d5-bdeb4c081478",
        "colab": {
          "base_uri": "https://localhost:8080/"
        }
      },
      "source": [
        "# checando valores nulos\n",
        "(df.isnull().sum()/ df.shape[0]).sort_values(ascending=False)"
      ],
      "execution_count": null,
      "outputs": [
        {
          "output_type": "execute_result",
          "data": {
            "text/plain": [
              "cluster                                     0.0\n",
              "geometric_standard_deviation_travel_time    0.0\n",
              "geometric_mean_travel_time                  0.0\n",
              "standard_deviation_travel_time              0.0\n",
              "mean_travel_time                            0.0\n",
              "hod                                         0.0\n",
              "dstid                                       0.0\n",
              "sourceid                                    0.0\n",
              "dtype: float64"
            ]
          },
          "metadata": {
            "tags": []
          },
          "execution_count": 14
        }
      ]
    },
    {
      "cell_type": "code",
      "metadata": {
        "id": "WkImVEn0hxZl",
        "outputId": "b93fcf72-e23a-4bed-cb80-cd5a7ca1fb5c",
        "colab": {
          "base_uri": "https://localhost:8080/"
        }
      },
      "source": [
        "# média de popularidade por cluster\n",
        "df.groupby(['cluster']).hod.mean().sort_values(ascending=False)"
      ],
      "execution_count": null,
      "outputs": [
        {
          "output_type": "execute_result",
          "data": {
            "text/plain": [
              "cluster\n",
              "5    13.380942\n",
              "3    12.941768\n",
              "1    12.817642\n",
              "4    12.433247\n",
              "0    11.244833\n",
              "2    10.548098\n",
              "Name: hod, dtype: float64"
            ]
          },
          "metadata": {
            "tags": []
          },
          "execution_count": 15
        }
      ]
    },
    {
      "cell_type": "code",
      "metadata": {
        "id": "jqYsbUAlh8tI",
        "outputId": "591f29a6-2091-4036-fcfb-97c2fe628b0b",
        "colab": {
          "base_uri": "https://localhost:8080/"
        }
      },
      "source": [
        "# conferindo o número de músicas por cluster\n",
        "df['cluster'].value_counts()"
      ],
      "execution_count": null,
      "outputs": [
        {
          "output_type": "execute_result",
          "data": {
            "text/plain": [
              "0    869522\n",
              "1    752875\n",
              "2    522660\n",
              "5    394887\n",
              "4    258769\n",
              "3    170560\n",
              "Name: cluster, dtype: int64"
            ]
          },
          "metadata": {
            "tags": []
          },
          "execution_count": 18
        }
      ]
    },
    {
      "cell_type": "code",
      "metadata": {
        "id": "TK-4OLIMFNYW",
        "outputId": "f2e5f1a0-cb69-4083-a43e-ee48181c1091",
        "colab": {
          "base_uri": "https://localhost:8080/",
          "height": 363
        }
      },
      "source": [
        "# checando as músicas no cluster\n",
        "df.loc[df['cluster'] == 3][:10]"
      ],
      "execution_count": null,
      "outputs": [
        {
          "output_type": "execute_result",
          "data": {
            "text/html": [
              "<div>\n",
              "<style scoped>\n",
              "    .dataframe tbody tr th:only-of-type {\n",
              "        vertical-align: middle;\n",
              "    }\n",
              "\n",
              "    .dataframe tbody tr th {\n",
              "        vertical-align: top;\n",
              "    }\n",
              "\n",
              "    .dataframe thead th {\n",
              "        text-align: right;\n",
              "    }\n",
              "</style>\n",
              "<table border=\"1\" class=\"dataframe\">\n",
              "  <thead>\n",
              "    <tr style=\"text-align: right;\">\n",
              "      <th></th>\n",
              "      <th>sourceid</th>\n",
              "      <th>dstid</th>\n",
              "      <th>hod</th>\n",
              "      <th>mean_travel_time</th>\n",
              "      <th>standard_deviation_travel_time</th>\n",
              "      <th>geometric_mean_travel_time</th>\n",
              "      <th>geometric_standard_deviation_travel_time</th>\n",
              "      <th>cluster</th>\n",
              "    </tr>\n",
              "  </thead>\n",
              "  <tbody>\n",
              "    <tr>\n",
              "      <th>6</th>\n",
              "      <td>491</td>\n",
              "      <td>251</td>\n",
              "      <td>17</td>\n",
              "      <td>4008.83</td>\n",
              "      <td>853.78</td>\n",
              "      <td>3904.85</td>\n",
              "      <td>1.27</td>\n",
              "      <td>3</td>\n",
              "    </tr>\n",
              "    <tr>\n",
              "      <th>11</th>\n",
              "      <td>492</td>\n",
              "      <td>241</td>\n",
              "      <td>17</td>\n",
              "      <td>3800.52</td>\n",
              "      <td>1109.67</td>\n",
              "      <td>3634.73</td>\n",
              "      <td>1.36</td>\n",
              "      <td>3</td>\n",
              "    </tr>\n",
              "    <tr>\n",
              "      <th>124</th>\n",
              "      <td>331</td>\n",
              "      <td>366</td>\n",
              "      <td>17</td>\n",
              "      <td>3976.26</td>\n",
              "      <td>1635.43</td>\n",
              "      <td>3706.22</td>\n",
              "      <td>1.44</td>\n",
              "      <td>3</td>\n",
              "    </tr>\n",
              "    <tr>\n",
              "      <th>144</th>\n",
              "      <td>439</td>\n",
              "      <td>305</td>\n",
              "      <td>9</td>\n",
              "      <td>4134.29</td>\n",
              "      <td>1421.84</td>\n",
              "      <td>3938.11</td>\n",
              "      <td>1.35</td>\n",
              "      <td>3</td>\n",
              "    </tr>\n",
              "    <tr>\n",
              "      <th>201</th>\n",
              "      <td>477</td>\n",
              "      <td>29</td>\n",
              "      <td>10</td>\n",
              "      <td>3603.09</td>\n",
              "      <td>1195.75</td>\n",
              "      <td>3321.88</td>\n",
              "      <td>1.65</td>\n",
              "      <td>3</td>\n",
              "    </tr>\n",
              "    <tr>\n",
              "      <th>235</th>\n",
              "      <td>73</td>\n",
              "      <td>438</td>\n",
              "      <td>20</td>\n",
              "      <td>4138.67</td>\n",
              "      <td>739.51</td>\n",
              "      <td>4073.75</td>\n",
              "      <td>1.19</td>\n",
              "      <td>3</td>\n",
              "    </tr>\n",
              "    <tr>\n",
              "      <th>239</th>\n",
              "      <td>378</td>\n",
              "      <td>305</td>\n",
              "      <td>19</td>\n",
              "      <td>4135.71</td>\n",
              "      <td>848.82</td>\n",
              "      <td>4051.72</td>\n",
              "      <td>1.22</td>\n",
              "      <td>3</td>\n",
              "    </tr>\n",
              "    <tr>\n",
              "      <th>268</th>\n",
              "      <td>132</td>\n",
              "      <td>308</td>\n",
              "      <td>10</td>\n",
              "      <td>4025.45</td>\n",
              "      <td>655.47</td>\n",
              "      <td>3971.71</td>\n",
              "      <td>1.18</td>\n",
              "      <td>3</td>\n",
              "    </tr>\n",
              "    <tr>\n",
              "      <th>326</th>\n",
              "      <td>366</td>\n",
              "      <td>286</td>\n",
              "      <td>8</td>\n",
              "      <td>4513.04</td>\n",
              "      <td>1605.29</td>\n",
              "      <td>4203.74</td>\n",
              "      <td>1.47</td>\n",
              "      <td>3</td>\n",
              "    </tr>\n",
              "    <tr>\n",
              "      <th>338</th>\n",
              "      <td>200</td>\n",
              "      <td>26</td>\n",
              "      <td>5</td>\n",
              "      <td>4011.46</td>\n",
              "      <td>1781.67</td>\n",
              "      <td>3655.04</td>\n",
              "      <td>1.53</td>\n",
              "      <td>3</td>\n",
              "    </tr>\n",
              "  </tbody>\n",
              "</table>\n",
              "</div>"
            ],
            "text/plain": [
              "     sourceid  dstid  hod  mean_travel_time  standard_deviation_travel_time  \\\n",
              "6         491    251   17           4008.83                          853.78   \n",
              "11        492    241   17           3800.52                         1109.67   \n",
              "124       331    366   17           3976.26                         1635.43   \n",
              "144       439    305    9           4134.29                         1421.84   \n",
              "201       477     29   10           3603.09                         1195.75   \n",
              "235        73    438   20           4138.67                          739.51   \n",
              "239       378    305   19           4135.71                          848.82   \n",
              "268       132    308   10           4025.45                          655.47   \n",
              "326       366    286    8           4513.04                         1605.29   \n",
              "338       200     26    5           4011.46                         1781.67   \n",
              "\n",
              "     geometric_mean_travel_time  geometric_standard_deviation_travel_time  \\\n",
              "6                       3904.85                                      1.27   \n",
              "11                      3634.73                                      1.36   \n",
              "124                     3706.22                                      1.44   \n",
              "144                     3938.11                                      1.35   \n",
              "201                     3321.88                                      1.65   \n",
              "235                     4073.75                                      1.19   \n",
              "239                     4051.72                                      1.22   \n",
              "268                     3971.71                                      1.18   \n",
              "326                     4203.74                                      1.47   \n",
              "338                     3655.04                                      1.53   \n",
              "\n",
              "     cluster  \n",
              "6          3  \n",
              "11         3  \n",
              "124        3  \n",
              "144        3  \n",
              "201        3  \n",
              "235        3  \n",
              "239        3  \n",
              "268        3  \n",
              "326        3  \n",
              "338        3  "
            ]
          },
          "metadata": {
            "tags": []
          },
          "execution_count": 19
        }
      ]
    },
    {
      "cell_type": "code",
      "metadata": {
        "id": "MN39UHbPFeRb"
      },
      "source": [
        ""
      ],
      "execution_count": null,
      "outputs": []
    }
  ]
}